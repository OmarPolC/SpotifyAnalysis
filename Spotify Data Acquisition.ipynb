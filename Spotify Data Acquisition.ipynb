{
 "cells": [
  {
   "cell_type": "code",
   "execution_count": 30,
   "id": "ad23fdea",
   "metadata": {},
   "outputs": [],
   "source": [
    "import spotipy\n",
    "import pandas as pd\n",
    "import numpy as np\n",
    "import matplotlib.pyplot as plt"
   ]
  },
  {
   "cell_type": "code",
   "execution_count": 2,
   "id": "5b342b63",
   "metadata": {},
   "outputs": [],
   "source": [
    "client_id = 'd638d9ca84be4e9cac2974a1c8b02d52'\n",
    "client_secret_id = '37c6ea57ab6e4c80b18e6b38b3dcce4d'"
   ]
  },
  {
   "cell_type": "code",
   "execution_count": 3,
   "id": "213e6632",
   "metadata": {},
   "outputs": [],
   "source": [
    "client_credentials_manager = spotipy.SpotifyClientCredentials(client_id = client_id, client_secret = client_secret_id)\n",
    "sp = spotipy.Spotify(client_credentials_manager = client_credentials_manager)"
   ]
  },
  {
   "cell_type": "code",
   "execution_count": 146,
   "id": "801d600e",
   "metadata": {},
   "outputs": [],
   "source": [
    "def get_random_songs(number_of_songs=1, genre='Pop', year_range='1970-1979', random_state = 101):\n",
    "    #Set random seed\n",
    "    import random\n",
    "    random.seed(random_state)\n",
    "\n",
    "    #Generate random offsets (sampling without replacement)\n",
    "    random_offset = random.sample(range(0, 300), number_of_songs)\n",
    "\n",
    "    #Generate random search character for query (sampling with replacement)\n",
    "    chars = 'abcdefghijklmnopqrstuvwxyz'\n",
    "    random_char = random.choices(chars, k=number_of_songs)\n",
    "\n",
    "    #Generate random id to select in the output list of 10 (sampling with replacement)\n",
    "    random_id = random.choices(range(0, 10), k=number_of_songs)\n",
    "    \n",
    "    \n",
    "    df_columns = ['track_id','track_name', 'duration','popularity','explicit','artist_id', 'artist_name', \n",
    "                  'album_id', 'album_name', 'release_date']\n",
    "    df_random_songs = pd.DataFrame(columns=df_columns)\n",
    "\n",
    "    for i in range(0,number_of_songs):\n",
    "        #Pseudo-random query selection\n",
    "        results = sp.search(q='genre:' + genre + ' year:' + year_range+' '+random_char[i], type='track', offset=random_offset[i])\n",
    "\n",
    "        song_list = []\n",
    "        #Adding track info\n",
    "        song_list.append(results['tracks']['items'][random_id[i]]['id'])\n",
    "        song_list.append(results['tracks']['items'][random_id[i]]['name'])\n",
    "        song_list.append(results['tracks']['items'][random_id[i]]['duration_ms'])\n",
    "        song_list.append(results['tracks']['items'][random_id[i]]['popularity'])\n",
    "        song_list.append(results['tracks']['items'][random_id[i]]['explicit'])\n",
    "\n",
    "        #Adding artist info (first one listed)\n",
    "        song_list.append(results['tracks']['items'][random_id[i]]['artists'][0]['id'])\n",
    "        song_list.append(results['tracks']['items'][random_id[i]]['artists'][0]['name'])\n",
    "\n",
    "        #Adding album info\n",
    "        song_list.append(results['tracks']['items'][random_id[i]]['album']['id'])\n",
    "        song_list.append(results['tracks']['items'][random_id[i]]['album']['name'])\n",
    "        song_list.append(results['tracks']['items'][random_id[i]]['album']['release_date'])\n",
    "\n",
    "        df_song = pd.DataFrame([song_list], columns=df_columns)\n",
    "\n",
    "        df_random_songs=pd.concat([df_random_songs, df_song])\n",
    "\n",
    "    df_random_songs=df_random_songs.reset_index(drop=True)\n",
    "    \n",
    "    return df_random_songs    \n",
    "    "
   ]
  },
  {
   "cell_type": "code",
   "execution_count": 40,
   "id": "bd8d27fb",
   "metadata": {},
   "outputs": [],
   "source": [
    "def get_song_info(track_id):\n",
    "    #1. Extract the audio features of the track\n",
    "    song_results = sp.audio_features(track_id)\n",
    "    \n",
    "    #2. Collect the following audio information about the track\n",
    "    song_list=[track_id,\n",
    "               song_results[0]['danceability'],\n",
    "               song_results[0]['energy'],\n",
    "               song_results[0]['key'],\n",
    "               song_results[0]['loudness'],\n",
    "               song_results[0]['mode'],\n",
    "               song_results[0]['speechiness'],\n",
    "               song_results[0]['acousticness'],\n",
    "               song_results[0]['instrumentalness'],\n",
    "               song_results[0]['liveness'],\n",
    "               song_results[0]['valence'],\n",
    "               song_results[0]['tempo'],\n",
    "               song_results[0]['type'],\n",
    "               song_results[0]['time_signature']]\n",
    "               \n",
    "    \n",
    "    df_song_audio=pd.DataFrame([song_list], columns=['track_id', 'danceability', 'energy', 'key', 'loudness', 'mode',\n",
    "                                                    'speechiness', 'acousticness', 'instrumentalness', 'liveness', 'valence',\n",
    "                                                    'tempo', 'type', 'time_signature'])\n",
    "    return df_song_audio\n",
    "    "
   ]
  },
  {
   "cell_type": "code",
   "execution_count": 125,
   "id": "6170777e",
   "metadata": {},
   "outputs": [],
   "source": [
    "def get_song_additional_features(track_id):\n",
    "    \n",
    "    audio = sp.audio_analysis(track_id)\n",
    "    segments = audio['segments']\n",
    "    sections = audio['sections']\n",
    "    \n",
    "    pitches = []\n",
    "    loudness = []\n",
    "    section_lenghts = []\n",
    "    \n",
    "    for segment in segments:\n",
    "        pitches.append(segment['pitches'])\n",
    "        loudness.append(segment['loudness_start'])\n",
    "        loudness.append(segment['loudness_max'])\n",
    "        \n",
    "    for section in sections:\n",
    "        section_lenghts.append(section['duration'])\n",
    "        \n",
    "    pitches = np.array(pitches)\n",
    "    C, C_sharp, D, D_sharp, E, F, F_sharp, G, G_sharp, A, A_sharp, B = np.mean(pitches, axis=0)\n",
    "    \n",
    "    features = [np.mean(pitches), np.var(loudness), np.mean(section_lenghts), C, \n",
    "                C_sharp, D, D_sharp, E, F, F_sharp, G, G_sharp, A, A_sharp, B] \n",
    "    \n",
    "    additional_features = pd.DataFrame([features],columns=['tone_purity', 'loudness_var', 'mean_section_lenght', \n",
    "                                                'C','C_sharp','D','D_sharp','E','F','F_sharp','G','G_sharp','A','A_sharp','B'])\n",
    "    \n",
    "    return additional_features\n",
    "    "
   ]
  },
  {
   "cell_type": "code",
   "execution_count": 180,
   "id": "d844135e",
   "metadata": {},
   "outputs": [],
   "source": [
    "def enhance_audio_features(data):\n",
    "    data = data.copy()\n",
    "    features_df = pd.DataFrame(columns=['track_id', 'danceability', 'energy', 'key', 'loudness', 'mode',\n",
    "                                                    'speechiness', 'acousticness', 'instrumentalness', 'liveness', 'valence',\n",
    "                                                    'tempo', 'type', 'time_signature'])\n",
    "    extra_features_df = pd.DataFrame(columns=['tone_purity', 'loudness_var', 'mean_section_lenght', \n",
    "                                                'C','C_sharp','D','D_sharp','E','F','F_sharp','G','G_sharp','A','A_sharp','B'])\n",
    "\n",
    "    for track_id in data.track_id:\n",
    "        features_song = get_song_info(track_id)\n",
    "        features_df = pd.concat([features_df,features_song], ignore_index=True)\n",
    "        extra_features_song = get_song_additional_features(track_id)\n",
    "        extra_features_df = pd.concat([extra_features_df,extra_features_song], ignore_index=True)\n",
    "        \n",
    "    enhancement = pd.concat([features_df, extra_features_df], axis=1)\n",
    "    \n",
    "    enhanced_df = pd.concat([data, enhancement], axis=1)\n",
    "    print('Done!')\n",
    "    \n",
    "    return enhanced_df"
   ]
  },
  {
   "cell_type": "code",
   "execution_count": 172,
   "id": "afcbfbbe",
   "metadata": {},
   "outputs": [],
   "source": [
    "seventies = get_random_songs(number_of_songs=300, genre='Rock', year_range='1970-1979', random_state = 101)\n",
    "eighties = get_random_songs(number_of_songs=300, genre='Rock', year_range='1980-1989', random_state = 101)\n",
    "nineties = get_random_songs(number_of_songs=300, genre='Rock', year_range='1990-1999', random_state = 101)\n",
    "twothousands = get_random_songs(number_of_songs=300, genre='Rock', year_range='2000-2009', random_state = 101)\n",
    "twothousand_tens = get_random_songs(number_of_songs=300, genre='Rock', year_range='2010-2019', random_state = 101)\n",
    "twothousand_twenties = get_random_songs(number_of_songs=300, genre='Rock', year_range='2020-2022', random_state = 101)"
   ]
  },
  {
   "cell_type": "code",
   "execution_count": 183,
   "id": "da90af07",
   "metadata": {},
   "outputs": [
    {
     "name": "stdout",
     "output_type": "stream",
     "text": [
      "Done!\n",
      "Done!\n",
      "Done!\n",
      "Done!\n",
      "Done!\n",
      "Done!\n"
     ]
    }
   ],
   "source": [
    "enhanced_seventies = enhance_audio_features(seventies)\n",
    "enhanced_eighties = enhance_audio_features(eighties)\n",
    "enhanced_nineties = enhance_audio_features(nineties)\n",
    "enhanced_twothousands = enhance_audio_features(twothousands)\n",
    "enhanced_twothousand_tens = enhance_audio_features(twothousand_tens)\n",
    "enhanced_twothousand_twenties = enhance_audio_features(twothousand_twenties)"
   ]
  },
  {
   "cell_type": "code",
   "execution_count": 185,
   "id": "a39831dc",
   "metadata": {},
   "outputs": [],
   "source": [
    "enhanced_seventies['Decade'] = '1970´s'\n",
    "enhanced_eighties['Decade'] = '1980´s'\n",
    "enhanced_nineties['Decade'] = '1990´s' \n",
    "enhanced_twothousands['Decade'] = '2000´s'\n",
    "enhanced_twothousand_tens['Decade'] = '2010´s'\n",
    "enhanced_twothousand_twenties['Decade'] = '2020´s'"
   ]
  },
  {
   "cell_type": "code",
   "execution_count": 190,
   "id": "b69ab1b1",
   "metadata": {},
   "outputs": [],
   "source": [
    "data = pd.concat([enhanced_seventies,enhanced_eighties, enhanced_nineties, \n",
    "                  enhanced_twothousands, enhanced_twothousand_tens, enhanced_twothousand_twenties], ignore_index=True)"
   ]
  },
  {
   "cell_type": "code",
   "execution_count": null,
   "id": "c674d0e9",
   "metadata": {},
   "outputs": [],
   "source": [
    "billboard = pd.read_csv('billboard.csv').dropna()"
   ]
  },
  {
   "cell_type": "code",
   "execution_count": 238,
   "id": "8090478c",
   "metadata": {},
   "outputs": [],
   "source": [
    "data['top_song'] = data.track_name.apply(lambda x : 1 if x in list(billboard.song) else 0)\n",
    "data['explicit'] = data.explicit.apply(lambda x: 1 if x else 0)"
   ]
  },
  {
   "cell_type": "code",
   "execution_count": 241,
   "id": "fd74f884",
   "metadata": {},
   "outputs": [],
   "source": [
    "data.to_csv('songs.csv')"
   ]
  },
  {
   "cell_type": "code",
   "execution_count": 251,
   "id": "e8953747",
   "metadata": {
    "scrolled": true
   },
   "outputs": [
    {
     "data": {
      "text/plain": [
       "1    1345\n",
       "0     455\n",
       "Name: mode, dtype: int64"
      ]
     },
     "execution_count": 251,
     "metadata": {},
     "output_type": "execute_result"
    }
   ],
   "source": [
    "data['mode'].value_counts()"
   ]
  },
  {
   "cell_type": "code",
   "execution_count": 243,
   "id": "9baa0b05",
   "metadata": {},
   "outputs": [
    {
     "data": {
      "text/plain": [
       "Index(['track_id', 'track_name', 'duration', 'popularity', 'explicit',\n",
       "       'artist_id', 'artist_name', 'album_id', 'album_name', 'release_date',\n",
       "       'track_id', 'danceability', 'energy', 'key', 'loudness', 'mode',\n",
       "       'speechiness', 'acousticness', 'instrumentalness', 'liveness',\n",
       "       'valence', 'tempo', 'type', 'time_signature', 'tone_purity',\n",
       "       'loudness_var', 'mean_section_lenght', 'C', 'C_sharp', 'D', 'D_sharp',\n",
       "       'E', 'F', 'F_sharp', 'G', 'G_sharp', 'A', 'A_sharp', 'B', 'Decade',\n",
       "       'top_song'],\n",
       "      dtype='object')"
      ]
     },
     "execution_count": 243,
     "metadata": {},
     "output_type": "execute_result"
    }
   ],
   "source": [
    "data.columns"
   ]
  }
 ],
 "metadata": {
  "kernelspec": {
   "display_name": "Python 3 (ipykernel)",
   "language": "python",
   "name": "python3"
  },
  "language_info": {
   "codemirror_mode": {
    "name": "ipython",
    "version": 3
   },
   "file_extension": ".py",
   "mimetype": "text/x-python",
   "name": "python",
   "nbconvert_exporter": "python",
   "pygments_lexer": "ipython3",
   "version": "3.10.4"
  }
 },
 "nbformat": 4,
 "nbformat_minor": 5
}
